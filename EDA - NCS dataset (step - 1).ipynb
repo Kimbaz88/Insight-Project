{
 "cells": [
  {
   "cell_type": "markdown",
   "metadata": {},
   "source": [
    "## Exploratory data anylsis NCS dataset"
   ]
  },
  {
   "cell_type": "markdown",
   "metadata": {},
   "source": [
    "Start by importing the dataset and doing some basic data exploration"
   ]
  },
  {
   "cell_type": "code",
   "execution_count": 1,
   "metadata": {},
   "outputs": [],
   "source": [
    "import impyute\n",
    "import csv\n",
    "import pandas as pd\n",
    "import seaborn as sns\n",
    "import numpy as np\n",
    "import matplotlib.pyplot as plt\n",
    "import statsmodels.api as sm\n",
    "import pickle\n",
    "from sklearn.feature_selection import RFE\n",
    "from sklearn.linear_model import LogisticRegression\n",
    "from pandas import read_csv\n",
    "from pandas.plotting import scatter_matrix\n",
    "from matplotlib import pyplot\n",
    "from sklearn.linear_model import LogisticRegression\n",
    "from sklearn.model_selection import train_test_split\n",
    "from impyute.imputation.cs import mice\n",
    "from sklearn.model_selection import train_test_split\n",
    "from sklearn.model_selection import cross_val_score\n",
    "from sklearn.model_selection import StratifiedKFold\n",
    "from sklearn.metrics import classification_report\n",
    "from sklearn.metrics import confusion_matrix\n",
    "from sklearn.metrics import accuracy_score\n",
    "from sklearn.linear_model import LogisticRegression\n",
    "from sklearn.tree import DecisionTreeClassifier\n",
    "from sklearn.neighbors import KNeighborsClassifier\n",
    "from sklearn.discriminant_analysis import LinearDiscriminantAnalysis\n",
    "from sklearn.naive_bayes import GaussianNB\n",
    "from sklearn.svm import SVC\n",
    "from sklearn.metrics import roc_auc_score"
   ]
  },
  {
   "cell_type": "markdown",
   "metadata": {},
   "source": [
    "Join the child table, to add importand variables on the birth to the mother ID number (MOM_PIDX)"
   ]
  },
  {
   "cell_type": "code",
   "execution_count": 2,
   "metadata": {},
   "outputs": [],
   "source": [
    "# Variables to join are: CHILD_SEX, CHILD_RACE, GESTATIONAL_AGE, MULTIPLE, SIBLINGS, \n",
    "# MOM_RACE, MOM_AGE, MOM_INSURANCE, MOM_MARISTAT, MOM_EDUCATION."
   ]
  },
  {
   "cell_type": "code",
   "execution_count": 3,
   "metadata": {},
   "outputs": [],
   "source": [
    "data= pd.read_csv('ncs_mom.csv')\n",
    "#data"
   ]
  },
  {
   "cell_type": "code",
   "execution_count": 4,
   "metadata": {},
   "outputs": [],
   "source": [
    "data_c= pd.read_csv('ncs_child.csv')\n",
    "data_c1 = data_c.filter(['MOM_PIDX', 'GESTATIONAL_AGE', 'MOM_AGE', 'MOM_INSURANCE'])\n",
    "#data_c1"
   ]
  },
  {
   "cell_type": "code",
   "execution_count": 5,
   "metadata": {},
   "outputs": [
    {
     "data": {
      "text/html": [
       "<div>\n",
       "<style scoped>\n",
       "    .dataframe tbody tr th:only-of-type {\n",
       "        vertical-align: middle;\n",
       "    }\n",
       "\n",
       "    .dataframe tbody tr th {\n",
       "        vertical-align: top;\n",
       "    }\n",
       "\n",
       "    .dataframe thead th {\n",
       "        text-align: right;\n",
       "    }\n",
       "</style>\n",
       "<table border=\"1\" class=\"dataframe\">\n",
       "  <thead>\n",
       "    <tr style=\"text-align: right;\">\n",
       "      <th></th>\n",
       "      <th>MOM_PIDX</th>\n",
       "      <th>HEALTH</th>\n",
       "      <th>BMI</th>\n",
       "      <th>BMI_CAT</th>\n",
       "      <th>THYROID</th>\n",
       "      <th>HIGHBP_NOTPREG</th>\n",
       "      <th>ASTHMA</th>\n",
       "      <th>DIABETES</th>\n",
       "      <th>HIGHBP_PREG</th>\n",
       "      <th>PREECLAMPSIA</th>\n",
       "      <th>...</th>\n",
       "      <th>KIDNEY</th>\n",
       "      <th>NAUSEA</th>\n",
       "      <th>RH_DISEASE</th>\n",
       "      <th>URINE</th>\n",
       "      <th>VAGINOSIS</th>\n",
       "      <th>GROUP_B</th>\n",
       "      <th>CIG_NOW</th>\n",
       "      <th>GESTATIONAL_AGE</th>\n",
       "      <th>MOM_AGE</th>\n",
       "      <th>MOM_INSURANCE</th>\n",
       "    </tr>\n",
       "  </thead>\n",
       "  <tbody>\n",
       "    <tr>\n",
       "      <th>0</th>\n",
       "      <td>b00014490</td>\n",
       "      <td>1</td>\n",
       "      <td>22</td>\n",
       "      <td>2</td>\n",
       "      <td>0.0</td>\n",
       "      <td>0.0</td>\n",
       "      <td>0.0</td>\n",
       "      <td>0.0</td>\n",
       "      <td>0.0</td>\n",
       "      <td>0.0</td>\n",
       "      <td>...</td>\n",
       "      <td>0.0</td>\n",
       "      <td>0.0</td>\n",
       "      <td>0.0</td>\n",
       "      <td>0.0</td>\n",
       "      <td>0.0</td>\n",
       "      <td>0.0</td>\n",
       "      <td>0.0</td>\n",
       "      <td>4</td>\n",
       "      <td>34</td>\n",
       "      <td>2</td>\n",
       "    </tr>\n",
       "    <tr>\n",
       "      <th>1</th>\n",
       "      <td>b00028364</td>\n",
       "      <td>1</td>\n",
       "      <td>22.9</td>\n",
       "      <td>2</td>\n",
       "      <td>0.0</td>\n",
       "      <td>0.0</td>\n",
       "      <td>0.0</td>\n",
       "      <td>0.0</td>\n",
       "      <td>0.0</td>\n",
       "      <td>0.0</td>\n",
       "      <td>...</td>\n",
       "      <td>0.0</td>\n",
       "      <td>0.0</td>\n",
       "      <td>0.0</td>\n",
       "      <td>0.0</td>\n",
       "      <td>0.0</td>\n",
       "      <td>0.0</td>\n",
       "      <td>0.0</td>\n",
       "      <td>4</td>\n",
       "      <td>32</td>\n",
       "      <td>2</td>\n",
       "    </tr>\n",
       "    <tr>\n",
       "      <th>2</th>\n",
       "      <td>b00048093</td>\n",
       "      <td>2</td>\n",
       "      <td>24.8</td>\n",
       "      <td>2</td>\n",
       "      <td>0.0</td>\n",
       "      <td>0.0</td>\n",
       "      <td>0.0</td>\n",
       "      <td>0.0</td>\n",
       "      <td>0.0</td>\n",
       "      <td>0.0</td>\n",
       "      <td>...</td>\n",
       "      <td>0.0</td>\n",
       "      <td>0.0</td>\n",
       "      <td>0.0</td>\n",
       "      <td>0.0</td>\n",
       "      <td>0.0</td>\n",
       "      <td>0.0</td>\n",
       "      <td>0.0</td>\n",
       "      <td>4</td>\n",
       "      <td>21</td>\n",
       "      <td>3</td>\n",
       "    </tr>\n",
       "    <tr>\n",
       "      <th>3</th>\n",
       "      <td>b00060642</td>\n",
       "      <td>2</td>\n",
       "      <td>37.8</td>\n",
       "      <td>5</td>\n",
       "      <td>0.0</td>\n",
       "      <td>0.0</td>\n",
       "      <td>0.0</td>\n",
       "      <td>0.0</td>\n",
       "      <td>0.0</td>\n",
       "      <td>0.0</td>\n",
       "      <td>...</td>\n",
       "      <td>0.0</td>\n",
       "      <td>0.0</td>\n",
       "      <td>0.0</td>\n",
       "      <td>0.0</td>\n",
       "      <td>0.0</td>\n",
       "      <td>0.0</td>\n",
       "      <td>0.0</td>\n",
       "      <td>4</td>\n",
       "      <td>21</td>\n",
       "      <td>3</td>\n",
       "    </tr>\n",
       "    <tr>\n",
       "      <th>4</th>\n",
       "      <td>b00096696</td>\n",
       "      <td>1</td>\n",
       "      <td>28</td>\n",
       "      <td>3</td>\n",
       "      <td>0.0</td>\n",
       "      <td>0.0</td>\n",
       "      <td>0.0</td>\n",
       "      <td>0.0</td>\n",
       "      <td>0.0</td>\n",
       "      <td>0.0</td>\n",
       "      <td>...</td>\n",
       "      <td>0.0</td>\n",
       "      <td>1.0</td>\n",
       "      <td>0.0</td>\n",
       "      <td>0.0</td>\n",
       "      <td>0.0</td>\n",
       "      <td>0.0</td>\n",
       "      <td>0.0</td>\n",
       "      <td>4</td>\n",
       "      <td>23</td>\n",
       "      <td>3</td>\n",
       "    </tr>\n",
       "    <tr>\n",
       "      <th>...</th>\n",
       "      <td>...</td>\n",
       "      <td>...</td>\n",
       "      <td>...</td>\n",
       "      <td>...</td>\n",
       "      <td>...</td>\n",
       "      <td>...</td>\n",
       "      <td>...</td>\n",
       "      <td>...</td>\n",
       "      <td>...</td>\n",
       "      <td>...</td>\n",
       "      <td>...</td>\n",
       "      <td>...</td>\n",
       "      <td>...</td>\n",
       "      <td>...</td>\n",
       "      <td>...</td>\n",
       "      <td>...</td>\n",
       "      <td>...</td>\n",
       "      <td>...</td>\n",
       "      <td>...</td>\n",
       "      <td>...</td>\n",
       "      <td>...</td>\n",
       "    </tr>\n",
       "    <tr>\n",
       "      <th>4477</th>\n",
       "      <td>b99969191</td>\n",
       "      <td>1</td>\n",
       "      <td>26.5</td>\n",
       "      <td>3</td>\n",
       "      <td>0.0</td>\n",
       "      <td>0.0</td>\n",
       "      <td>0.0</td>\n",
       "      <td>0.0</td>\n",
       "      <td>0.0</td>\n",
       "      <td>0.0</td>\n",
       "      <td>...</td>\n",
       "      <td>0.0</td>\n",
       "      <td>0.0</td>\n",
       "      <td>0.0</td>\n",
       "      <td>0.0</td>\n",
       "      <td>0.0</td>\n",
       "      <td>1.0</td>\n",
       "      <td>0.0</td>\n",
       "      <td>4</td>\n",
       "      <td>42</td>\n",
       "      <td>2</td>\n",
       "    </tr>\n",
       "    <tr>\n",
       "      <th>4478</th>\n",
       "      <td>b99977751</td>\n",
       "      <td>1</td>\n",
       "      <td>23.4</td>\n",
       "      <td>2</td>\n",
       "      <td>0.0</td>\n",
       "      <td>0.0</td>\n",
       "      <td>0.0</td>\n",
       "      <td>0.0</td>\n",
       "      <td>0.0</td>\n",
       "      <td>0.0</td>\n",
       "      <td>...</td>\n",
       "      <td>0.0</td>\n",
       "      <td>0.0</td>\n",
       "      <td>0.0</td>\n",
       "      <td>0.0</td>\n",
       "      <td>1.0</td>\n",
       "      <td>0.0</td>\n",
       "      <td>0.0</td>\n",
       "      <td>4</td>\n",
       "      <td>20</td>\n",
       "      <td>3</td>\n",
       "    </tr>\n",
       "    <tr>\n",
       "      <th>4479</th>\n",
       "      <td>b99989539</td>\n",
       "      <td>1</td>\n",
       "      <td>19.8</td>\n",
       "      <td>2</td>\n",
       "      <td>0.0</td>\n",
       "      <td>0.0</td>\n",
       "      <td>0.0</td>\n",
       "      <td>0.0</td>\n",
       "      <td>0.0</td>\n",
       "      <td>0.0</td>\n",
       "      <td>...</td>\n",
       "      <td>0.0</td>\n",
       "      <td>0.0</td>\n",
       "      <td>0.0</td>\n",
       "      <td>0.0</td>\n",
       "      <td>1.0</td>\n",
       "      <td>0.0</td>\n",
       "      <td>1.0</td>\n",
       "      <td>4</td>\n",
       "      <td>21</td>\n",
       "      <td>3</td>\n",
       "    </tr>\n",
       "    <tr>\n",
       "      <th>4480</th>\n",
       "      <td>b99996827</td>\n",
       "      <td>1</td>\n",
       "      <td>28.3</td>\n",
       "      <td>3</td>\n",
       "      <td>0.0</td>\n",
       "      <td>0.0</td>\n",
       "      <td>0.0</td>\n",
       "      <td>0.0</td>\n",
       "      <td>0.0</td>\n",
       "      <td>0.0</td>\n",
       "      <td>...</td>\n",
       "      <td>0.0</td>\n",
       "      <td>0.0</td>\n",
       "      <td>0.0</td>\n",
       "      <td>0.0</td>\n",
       "      <td>0.0</td>\n",
       "      <td>0.0</td>\n",
       "      <td>1.0</td>\n",
       "      <td>4</td>\n",
       "      <td>23</td>\n",
       "      <td>3</td>\n",
       "    </tr>\n",
       "    <tr>\n",
       "      <th>4481</th>\n",
       "      <td>b99997181</td>\n",
       "      <td>1</td>\n",
       "      <td>23.5</td>\n",
       "      <td>2</td>\n",
       "      <td>1.0</td>\n",
       "      <td>0.0</td>\n",
       "      <td>0.0</td>\n",
       "      <td>1.0</td>\n",
       "      <td>1.0</td>\n",
       "      <td>0.0</td>\n",
       "      <td>...</td>\n",
       "      <td>0.0</td>\n",
       "      <td>1.0</td>\n",
       "      <td>0.0</td>\n",
       "      <td>1.0</td>\n",
       "      <td>0.0</td>\n",
       "      <td>0.0</td>\n",
       "      <td>0.0</td>\n",
       "      <td>4</td>\n",
       "      <td>22</td>\n",
       "      <td>3</td>\n",
       "    </tr>\n",
       "  </tbody>\n",
       "</table>\n",
       "<p>4482 rows × 22 columns</p>\n",
       "</div>"
      ],
      "text/plain": [
       "       MOM_PIDX HEALTH   BMI BMI_CAT  THYROID  HIGHBP_NOTPREG  ASTHMA  \\\n",
       "0     b00014490      1    22       2      0.0             0.0     0.0   \n",
       "1     b00028364      1  22.9       2      0.0             0.0     0.0   \n",
       "2     b00048093      2  24.8       2      0.0             0.0     0.0   \n",
       "3     b00060642      2  37.8       5      0.0             0.0     0.0   \n",
       "4     b00096696      1    28       3      0.0             0.0     0.0   \n",
       "...         ...    ...   ...     ...      ...             ...     ...   \n",
       "4477  b99969191      1  26.5       3      0.0             0.0     0.0   \n",
       "4478  b99977751      1  23.4       2      0.0             0.0     0.0   \n",
       "4479  b99989539      1  19.8       2      0.0             0.0     0.0   \n",
       "4480  b99996827      1  28.3       3      0.0             0.0     0.0   \n",
       "4481  b99997181      1  23.5       2      1.0             0.0     0.0   \n",
       "\n",
       "      DIABETES  HIGHBP_PREG  PREECLAMPSIA  ...  KIDNEY  NAUSEA  RH_DISEASE  \\\n",
       "0          0.0          0.0           0.0  ...     0.0     0.0         0.0   \n",
       "1          0.0          0.0           0.0  ...     0.0     0.0         0.0   \n",
       "2          0.0          0.0           0.0  ...     0.0     0.0         0.0   \n",
       "3          0.0          0.0           0.0  ...     0.0     0.0         0.0   \n",
       "4          0.0          0.0           0.0  ...     0.0     1.0         0.0   \n",
       "...        ...          ...           ...  ...     ...     ...         ...   \n",
       "4477       0.0          0.0           0.0  ...     0.0     0.0         0.0   \n",
       "4478       0.0          0.0           0.0  ...     0.0     0.0         0.0   \n",
       "4479       0.0          0.0           0.0  ...     0.0     0.0         0.0   \n",
       "4480       0.0          0.0           0.0  ...     0.0     0.0         0.0   \n",
       "4481       1.0          1.0           0.0  ...     0.0     1.0         0.0   \n",
       "\n",
       "      URINE  VAGINOSIS  GROUP_B  CIG_NOW  GESTATIONAL_AGE  MOM_AGE  \\\n",
       "0       0.0        0.0      0.0      0.0                4       34   \n",
       "1       0.0        0.0      0.0      0.0                4       32   \n",
       "2       0.0        0.0      0.0      0.0                4       21   \n",
       "3       0.0        0.0      0.0      0.0                4       21   \n",
       "4       0.0        0.0      0.0      0.0                4       23   \n",
       "...     ...        ...      ...      ...              ...      ...   \n",
       "4477    0.0        0.0      1.0      0.0                4       42   \n",
       "4478    0.0        1.0      0.0      0.0                4       20   \n",
       "4479    0.0        1.0      0.0      1.0                4       21   \n",
       "4480    0.0        0.0      0.0      1.0                4       23   \n",
       "4481    1.0        0.0      0.0      0.0                4       22   \n",
       "\n",
       "     MOM_INSURANCE  \n",
       "0                2  \n",
       "1                2  \n",
       "2                3  \n",
       "3                3  \n",
       "4                3  \n",
       "...            ...  \n",
       "4477             2  \n",
       "4478             3  \n",
       "4479             3  \n",
       "4480             3  \n",
       "4481             3  \n",
       "\n",
       "[4482 rows x 22 columns]"
      ]
     },
     "execution_count": 5,
     "metadata": {},
     "output_type": "execute_result"
    }
   ],
   "source": [
    "#df_1 = pd.merge(data, data_c1, join='inner')\n",
    "#df_1 = pd.merge([data.set_index('MOM_PIDX'), data_c1.set_index('MOM_PIDX'),how ='right']).dropna()\n",
    "df_1 = data.merge(data_c1, how='right', on='MOM_PIDX').dropna()\n",
    "\n",
    "#result = pd.concat([df1, df4], axis=1, join='inner')\n",
    "df_1"
   ]
  },
  {
   "cell_type": "code",
   "execution_count": 6,
   "metadata": {},
   "outputs": [
    {
     "data": {
      "text/plain": [
       "MOM_PIDX             0\n",
       "HEALTH             149\n",
       "BMI                862\n",
       "BMI_CAT            862\n",
       "THYROID              0\n",
       "HIGHBP_NOTPREG       0\n",
       "ASTHMA               0\n",
       "DIABETES             0\n",
       "HIGHBP_PREG          0\n",
       "PREECLAMPSIA         0\n",
       "EARLY_LABOR          0\n",
       "ANEMIA               0\n",
       "KIDNEY               0\n",
       "NAUSEA               0\n",
       "RH_DISEASE           0\n",
       "URINE                0\n",
       "VAGINOSIS            0\n",
       "GROUP_B              0\n",
       "CIG_NOW              0\n",
       "GESTATIONAL_AGE     70\n",
       "MOM_AGE             45\n",
       "MOM_INSURANCE       82\n",
       "dtype: int64"
      ]
     },
     "execution_count": 6,
     "metadata": {},
     "output_type": "execute_result"
    }
   ],
   "source": [
    "#remove M and switch to NAN\n",
    "#df_2=[df_1!='M']\n",
    "df_2= df_1.replace(to_replace=['M'], value=np.NaN)\n",
    "df_2.isnull().sum()\n",
    "#df_2"
   ]
  },
  {
   "cell_type": "code",
   "execution_count": 7,
   "metadata": {},
   "outputs": [],
   "source": [
    "#for the time being, drop columns with high number of NaN\n",
    "df_2 = df_2.drop(['BMI','BMI_CAT','HEALTH','GESTATIONAL_AGE', 'MOM_AGE', 'MOM_INSURANCE', 'MOM_PIDX'], axis=1)"
   ]
  },
  {
   "cell_type": "code",
   "execution_count": 8,
   "metadata": {},
   "outputs": [
    {
     "data": {
      "text/plain": [
       "THYROID           0\n",
       "HIGHBP_NOTPREG    0\n",
       "ASTHMA            0\n",
       "DIABETES          0\n",
       "HIGHBP_PREG       0\n",
       "PREECLAMPSIA      0\n",
       "EARLY_LABOR       0\n",
       "ANEMIA            0\n",
       "KIDNEY            0\n",
       "NAUSEA            0\n",
       "RH_DISEASE        0\n",
       "URINE             0\n",
       "VAGINOSIS         0\n",
       "GROUP_B           0\n",
       "CIG_NOW           0\n",
       "dtype: int64"
      ]
     },
     "execution_count": 8,
     "metadata": {},
     "output_type": "execute_result"
    }
   ],
   "source": [
    "#now drop all Nan across remaining rows\n",
    "df_2 = df_2.dropna()\n",
    "df_2.isnull().sum()"
   ]
  },
  {
   "cell_type": "code",
   "execution_count": 10,
   "metadata": {},
   "outputs": [
    {
     "name": "stdout",
     "output_type": "stream",
     "text": [
      "count     4482\n",
      "unique     313\n",
      "top          M\n",
      "freq       862\n",
      "Name: BMI, dtype: object\n"
     ]
    }
   ],
   "source": [
    "print(df_1['BMI'].describe())"
   ]
  },
  {
   "cell_type": "code",
   "execution_count": 14,
   "metadata": {},
   "outputs": [
    {
     "data": {
      "text/plain": [
       "<matplotlib.axes._subplots.AxesSubplot at 0x19a55344a88>"
      ]
     },
     "execution_count": 14,
     "metadata": {},
     "output_type": "execute_result"
    },
    {
     "data": {
      "image/png": "[encoded data removed]",
      "text/plain": [
       "<Figure size 432x288 with 1 Axes>"
      ]
     },
     "metadata": {
      "needs_background": "light"
     },
     "output_type": "display_data"
    }
   ],
   "source": [
    "#look at the distribution of the BMI_CAT variable\n",
    "sns.countplot(data = data, x = 'BMI_CAT')"
   ]
  },
  {
   "cell_type": "code",
   "execution_count": 15,
   "metadata": {},
   "outputs": [
    {
     "name": "stdout",
     "output_type": "stream",
     "text": [
      "4155\n",
      "159\n"
     ]
    }
   ],
   "source": [
    "print(len(data[data['EARLY_LABOR']==0]))\n",
    "print(len(data[data['EARLY_LABOR']==1]))"
   ]
  },
  {
   "cell_type": "code",
   "execution_count": 16,
   "metadata": {},
   "outputs": [
    {
     "name": "stdout",
     "output_type": "stream",
     "text": [
      "percentage of term labor 96.31432545201669\n",
      "percentage of preterm labor 3.68567454798331\n"
     ]
    }
   ],
   "source": [
    "count_no_con = len(data[data['EARLY_LABOR']==0])\n",
    "count_yes = len(data[data['EARLY_LABOR']==1])\n",
    "pct_of_no_con = count_no_con/(count_no_con+count_yes)\n",
    "print(\"percentage of term labor\", pct_of_no_con*100)\n",
    "pct_of_yes = count_yes/(count_no_con+count_yes)\n",
    "print(\"percentage of preterm labor\", pct_of_yes*100)"
   ]
  },
  {
   "cell_type": "code",
   "execution_count": 17,
   "metadata": {},
   "outputs": [
    {
     "data": {
      "image/png": "[encoded data removed]",
      "text/plain": [
       "<Figure size 432x288 with 1 Axes>"
      ]
     },
     "metadata": {
      "needs_background": "light"
     },
     "output_type": "display_data"
    }
   ],
   "source": [
    "unbalanced = sns.countplot(x='EARLY_LABOR',data=data)\n",
    "#unbalanced.savefig(\"unbalanced.png\")\n",
    "(unbalanced).get_figure().savefig('unbalanced.png')"
   ]
  },
  {
   "cell_type": "code",
   "execution_count": 19,
   "metadata": {},
   "outputs": [
    {
     "data": {
      "text/html": [
       "<div>\n",
       "<style scoped>\n",
       "    .dataframe tbody tr th:only-of-type {\n",
       "        vertical-align: middle;\n",
       "    }\n",
       "\n",
       "    .dataframe tbody tr th {\n",
       "        vertical-align: top;\n",
       "    }\n",
       "\n",
       "    .dataframe thead th {\n",
       "        text-align: right;\n",
       "    }\n",
       "</style>\n",
       "<table border=\"1\" class=\"dataframe\">\n",
       "  <thead>\n",
       "    <tr style=\"text-align: right;\">\n",
       "      <th></th>\n",
       "      <th>THYROID</th>\n",
       "      <th>HIGHBP_NOTPREG</th>\n",
       "      <th>ASTHMA</th>\n",
       "      <th>DIABETES</th>\n",
       "      <th>HIGHBP_PREG</th>\n",
       "      <th>PREECLAMPSIA</th>\n",
       "      <th>ANEMIA</th>\n",
       "      <th>KIDNEY</th>\n",
       "      <th>NAUSEA</th>\n",
       "      <th>RH_DISEASE</th>\n",
       "      <th>URINE</th>\n",
       "      <th>VAGINOSIS</th>\n",
       "      <th>GROUP_B</th>\n",
       "      <th>CIG_NOW</th>\n",
       "    </tr>\n",
       "    <tr>\n",
       "      <th>EARLY_LABOR</th>\n",
       "      <th></th>\n",
       "      <th></th>\n",
       "      <th></th>\n",
       "      <th></th>\n",
       "      <th></th>\n",
       "      <th></th>\n",
       "      <th></th>\n",
       "      <th></th>\n",
       "      <th></th>\n",
       "      <th></th>\n",
       "      <th></th>\n",
       "      <th></th>\n",
       "      <th></th>\n",
       "      <th></th>\n",
       "    </tr>\n",
       "  </thead>\n",
       "  <tbody>\n",
       "    <tr>\n",
       "      <th>0</th>\n",
       "      <td>0.051023</td>\n",
       "      <td>0.034898</td>\n",
       "      <td>0.150181</td>\n",
       "      <td>0.055355</td>\n",
       "      <td>0.040915</td>\n",
       "      <td>0.005535</td>\n",
       "      <td>0.150421</td>\n",
       "      <td>0.081107</td>\n",
       "      <td>0.133574</td>\n",
       "      <td>0.029844</td>\n",
       "      <td>0.045487</td>\n",
       "      <td>0.049819</td>\n",
       "      <td>0.038026</td>\n",
       "      <td>0.084717</td>\n",
       "    </tr>\n",
       "    <tr>\n",
       "      <th>1</th>\n",
       "      <td>0.062893</td>\n",
       "      <td>0.081761</td>\n",
       "      <td>0.194969</td>\n",
       "      <td>0.138365</td>\n",
       "      <td>0.150943</td>\n",
       "      <td>0.031447</td>\n",
       "      <td>0.276730</td>\n",
       "      <td>0.245283</td>\n",
       "      <td>0.377358</td>\n",
       "      <td>0.025157</td>\n",
       "      <td>0.132075</td>\n",
       "      <td>0.094340</td>\n",
       "      <td>0.069182</td>\n",
       "      <td>0.163522</td>\n",
       "    </tr>\n",
       "  </tbody>\n",
       "</table>\n",
       "</div>"
      ],
      "text/plain": [
       "              THYROID  HIGHBP_NOTPREG    ASTHMA  DIABETES  HIGHBP_PREG  \\\n",
       "EARLY_LABOR                                                              \n",
       "0            0.051023        0.034898  0.150181  0.055355     0.040915   \n",
       "1            0.062893        0.081761  0.194969  0.138365     0.150943   \n",
       "\n",
       "             PREECLAMPSIA    ANEMIA    KIDNEY    NAUSEA  RH_DISEASE     URINE  \\\n",
       "EARLY_LABOR                                                                     \n",
       "0                0.005535  0.150421  0.081107  0.133574    0.029844  0.045487   \n",
       "1                0.031447  0.276730  0.245283  0.377358    0.025157  0.132075   \n",
       "\n",
       "             VAGINOSIS   GROUP_B   CIG_NOW  \n",
       "EARLY_LABOR                                 \n",
       "0             0.049819  0.038026  0.084717  \n",
       "1             0.094340  0.069182  0.163522  "
      ]
     },
     "execution_count": 19,
     "metadata": {},
     "output_type": "execute_result"
    }
   ],
   "source": [
    "data.groupby('EARLY_LABOR').mean()"
   ]
  },
  {
   "cell_type": "code",
   "execution_count": 20,
   "metadata": {},
   "outputs": [
    {
     "data": {
      "text/html": [
       "<div>\n",
       "<style scoped>\n",
       "    .dataframe tbody tr th:only-of-type {\n",
       "        vertical-align: middle;\n",
       "    }\n",
       "\n",
       "    .dataframe tbody tr th {\n",
       "        vertical-align: top;\n",
       "    }\n",
       "\n",
       "    .dataframe thead th {\n",
       "        text-align: right;\n",
       "    }\n",
       "</style>\n",
       "<table border=\"1\" class=\"dataframe\">\n",
       "  <thead>\n",
       "    <tr style=\"text-align: right;\">\n",
       "      <th></th>\n",
       "      <th>THYROID</th>\n",
       "      <th>HIGHBP_NOTPREG</th>\n",
       "      <th>ASTHMA</th>\n",
       "      <th>DIABETES</th>\n",
       "      <th>HIGHBP_PREG</th>\n",
       "      <th>PREECLAMPSIA</th>\n",
       "      <th>EARLY_LABOR</th>\n",
       "      <th>ANEMIA</th>\n",
       "      <th>KIDNEY</th>\n",
       "      <th>NAUSEA</th>\n",
       "      <th>RH_DISEASE</th>\n",
       "      <th>URINE</th>\n",
       "      <th>VAGINOSIS</th>\n",
       "      <th>GROUP_B</th>\n",
       "      <th>CIG_NOW</th>\n",
       "    </tr>\n",
       "    <tr>\n",
       "      <th>BMI_CAT</th>\n",
       "      <th></th>\n",
       "      <th></th>\n",
       "      <th></th>\n",
       "      <th></th>\n",
       "      <th></th>\n",
       "      <th></th>\n",
       "      <th></th>\n",
       "      <th></th>\n",
       "      <th></th>\n",
       "      <th></th>\n",
       "      <th></th>\n",
       "      <th></th>\n",
       "      <th></th>\n",
       "      <th></th>\n",
       "      <th></th>\n",
       "    </tr>\n",
       "  </thead>\n",
       "  <tbody>\n",
       "    <tr>\n",
       "      <th>1</th>\n",
       "      <td>0.028302</td>\n",
       "      <td>0.009434</td>\n",
       "      <td>0.094340</td>\n",
       "      <td>0.028302</td>\n",
       "      <td>0.000000</td>\n",
       "      <td>0.000000</td>\n",
       "      <td>0.018868</td>\n",
       "      <td>0.207547</td>\n",
       "      <td>0.103774</td>\n",
       "      <td>0.094340</td>\n",
       "      <td>0.009434</td>\n",
       "      <td>0.018868</td>\n",
       "      <td>0.028302</td>\n",
       "      <td>0.028302</td>\n",
       "      <td>0.103774</td>\n",
       "    </tr>\n",
       "    <tr>\n",
       "      <th>2</th>\n",
       "      <td>0.056354</td>\n",
       "      <td>0.017127</td>\n",
       "      <td>0.144199</td>\n",
       "      <td>0.031492</td>\n",
       "      <td>0.016022</td>\n",
       "      <td>0.003315</td>\n",
       "      <td>0.032597</td>\n",
       "      <td>0.136464</td>\n",
       "      <td>0.079006</td>\n",
       "      <td>0.128177</td>\n",
       "      <td>0.024309</td>\n",
       "      <td>0.032044</td>\n",
       "      <td>0.045856</td>\n",
       "      <td>0.038122</td>\n",
       "      <td>0.070718</td>\n",
       "    </tr>\n",
       "    <tr>\n",
       "      <th>3</th>\n",
       "      <td>0.062025</td>\n",
       "      <td>0.034177</td>\n",
       "      <td>0.165823</td>\n",
       "      <td>0.053165</td>\n",
       "      <td>0.059494</td>\n",
       "      <td>0.006329</td>\n",
       "      <td>0.035443</td>\n",
       "      <td>0.149367</td>\n",
       "      <td>0.078481</td>\n",
       "      <td>0.145570</td>\n",
       "      <td>0.027848</td>\n",
       "      <td>0.058228</td>\n",
       "      <td>0.053165</td>\n",
       "      <td>0.046835</td>\n",
       "      <td>0.089873</td>\n",
       "    </tr>\n",
       "    <tr>\n",
       "      <th>4</th>\n",
       "      <td>0.051802</td>\n",
       "      <td>0.063063</td>\n",
       "      <td>0.191441</td>\n",
       "      <td>0.090090</td>\n",
       "      <td>0.076577</td>\n",
       "      <td>0.009009</td>\n",
       "      <td>0.033784</td>\n",
       "      <td>0.157658</td>\n",
       "      <td>0.092342</td>\n",
       "      <td>0.137387</td>\n",
       "      <td>0.051802</td>\n",
       "      <td>0.056306</td>\n",
       "      <td>0.049550</td>\n",
       "      <td>0.038288</td>\n",
       "      <td>0.114865</td>\n",
       "    </tr>\n",
       "    <tr>\n",
       "      <th>5</th>\n",
       "      <td>0.061611</td>\n",
       "      <td>0.109005</td>\n",
       "      <td>0.189573</td>\n",
       "      <td>0.151659</td>\n",
       "      <td>0.113744</td>\n",
       "      <td>0.018957</td>\n",
       "      <td>0.018957</td>\n",
       "      <td>0.189573</td>\n",
       "      <td>0.109005</td>\n",
       "      <td>0.146919</td>\n",
       "      <td>0.033175</td>\n",
       "      <td>0.075829</td>\n",
       "      <td>0.033175</td>\n",
       "      <td>0.033175</td>\n",
       "      <td>0.090047</td>\n",
       "    </tr>\n",
       "    <tr>\n",
       "      <th>6</th>\n",
       "      <td>0.126761</td>\n",
       "      <td>0.140845</td>\n",
       "      <td>0.281690</td>\n",
       "      <td>0.140845</td>\n",
       "      <td>0.161972</td>\n",
       "      <td>0.014085</td>\n",
       "      <td>0.049296</td>\n",
       "      <td>0.232394</td>\n",
       "      <td>0.140845</td>\n",
       "      <td>0.225352</td>\n",
       "      <td>0.049296</td>\n",
       "      <td>0.126761</td>\n",
       "      <td>0.105634</td>\n",
       "      <td>0.091549</td>\n",
       "      <td>0.112676</td>\n",
       "    </tr>\n",
       "    <tr>\n",
       "      <th>M</th>\n",
       "      <td>0.017263</td>\n",
       "      <td>0.034525</td>\n",
       "      <td>0.108508</td>\n",
       "      <td>0.071517</td>\n",
       "      <td>0.045623</td>\n",
       "      <td>0.008631</td>\n",
       "      <td>0.054254</td>\n",
       "      <td>0.171393</td>\n",
       "      <td>0.093711</td>\n",
       "      <td>0.165228</td>\n",
       "      <td>0.029593</td>\n",
       "      <td>0.055487</td>\n",
       "      <td>0.061652</td>\n",
       "      <td>0.028360</td>\n",
       "      <td>0.101110</td>\n",
       "    </tr>\n",
       "  </tbody>\n",
       "</table>\n",
       "</div>"
      ],
      "text/plain": [
       "          THYROID  HIGHBP_NOTPREG    ASTHMA  DIABETES  HIGHBP_PREG  \\\n",
       "BMI_CAT                                                              \n",
       "1        0.028302        0.009434  0.094340  0.028302     0.000000   \n",
       "2        0.056354        0.017127  0.144199  0.031492     0.016022   \n",
       "3        0.062025        0.034177  0.165823  0.053165     0.059494   \n",
       "4        0.051802        0.063063  0.191441  0.090090     0.076577   \n",
       "5        0.061611        0.109005  0.189573  0.151659     0.113744   \n",
       "6        0.126761        0.140845  0.281690  0.140845     0.161972   \n",
       "M        0.017263        0.034525  0.108508  0.071517     0.045623   \n",
       "\n",
       "         PREECLAMPSIA  EARLY_LABOR    ANEMIA    KIDNEY    NAUSEA  RH_DISEASE  \\\n",
       "BMI_CAT                                                                        \n",
       "1            0.000000     0.018868  0.207547  0.103774  0.094340    0.009434   \n",
       "2            0.003315     0.032597  0.136464  0.079006  0.128177    0.024309   \n",
       "3            0.006329     0.035443  0.149367  0.078481  0.145570    0.027848   \n",
       "4            0.009009     0.033784  0.157658  0.092342  0.137387    0.051802   \n",
       "5            0.018957     0.018957  0.189573  0.109005  0.146919    0.033175   \n",
       "6            0.014085     0.049296  0.232394  0.140845  0.225352    0.049296   \n",
       "M            0.008631     0.054254  0.171393  0.093711  0.165228    0.029593   \n",
       "\n",
       "            URINE  VAGINOSIS   GROUP_B   CIG_NOW  \n",
       "BMI_CAT                                           \n",
       "1        0.018868   0.028302  0.028302  0.103774  \n",
       "2        0.032044   0.045856  0.038122  0.070718  \n",
       "3        0.058228   0.053165  0.046835  0.089873  \n",
       "4        0.056306   0.049550  0.038288  0.114865  \n",
       "5        0.075829   0.033175  0.033175  0.090047  \n",
       "6        0.126761   0.105634  0.091549  0.112676  \n",
       "M        0.055487   0.061652  0.028360  0.101110  "
      ]
     },
     "execution_count": 20,
     "metadata": {},
     "output_type": "execute_result"
    }
   ],
   "source": [
    "data.groupby('BMI_CAT').mean()"
   ]
  },
  {
   "cell_type": "code",
   "execution_count": 21,
   "metadata": {},
   "outputs": [
    {
     "data": {
      "text/html": [
       "<div>\n",
       "<style scoped>\n",
       "    .dataframe tbody tr th:only-of-type {\n",
       "        vertical-align: middle;\n",
       "    }\n",
       "\n",
       "    .dataframe tbody tr th {\n",
       "        vertical-align: top;\n",
       "    }\n",
       "\n",
       "    .dataframe thead th {\n",
       "        text-align: right;\n",
       "    }\n",
       "</style>\n",
       "<table border=\"1\" class=\"dataframe\">\n",
       "  <thead>\n",
       "    <tr style=\"text-align: right;\">\n",
       "      <th></th>\n",
       "      <th>THYROID</th>\n",
       "      <th>HIGHBP_NOTPREG</th>\n",
       "      <th>ASTHMA</th>\n",
       "      <th>DIABETES</th>\n",
       "      <th>HIGHBP_PREG</th>\n",
       "      <th>PREECLAMPSIA</th>\n",
       "      <th>EARLY_LABOR</th>\n",
       "      <th>ANEMIA</th>\n",
       "      <th>KIDNEY</th>\n",
       "      <th>RH_DISEASE</th>\n",
       "      <th>URINE</th>\n",
       "      <th>VAGINOSIS</th>\n",
       "      <th>GROUP_B</th>\n",
       "      <th>CIG_NOW</th>\n",
       "    </tr>\n",
       "    <tr>\n",
       "      <th>NAUSEA</th>\n",
       "      <th></th>\n",
       "      <th></th>\n",
       "      <th></th>\n",
       "      <th></th>\n",
       "      <th></th>\n",
       "      <th></th>\n",
       "      <th></th>\n",
       "      <th></th>\n",
       "      <th></th>\n",
       "      <th></th>\n",
       "      <th></th>\n",
       "      <th></th>\n",
       "      <th></th>\n",
       "      <th></th>\n",
       "    </tr>\n",
       "  </thead>\n",
       "  <tbody>\n",
       "    <tr>\n",
       "      <th>0</th>\n",
       "      <td>0.050825</td>\n",
       "      <td>0.032171</td>\n",
       "      <td>0.140038</td>\n",
       "      <td>0.057313</td>\n",
       "      <td>0.039740</td>\n",
       "      <td>0.004325</td>\n",
       "      <td>0.026764</td>\n",
       "      <td>0.144634</td>\n",
       "      <td>0.071641</td>\n",
       "      <td>0.027845</td>\n",
       "      <td>0.042985</td>\n",
       "      <td>0.048391</td>\n",
       "      <td>0.037037</td>\n",
       "      <td>0.081103</td>\n",
       "    </tr>\n",
       "    <tr>\n",
       "      <th>1</th>\n",
       "      <td>0.055285</td>\n",
       "      <td>0.063415</td>\n",
       "      <td>0.222764</td>\n",
       "      <td>0.065041</td>\n",
       "      <td>0.076423</td>\n",
       "      <td>0.019512</td>\n",
       "      <td>0.097561</td>\n",
       "      <td>0.217886</td>\n",
       "      <td>0.180488</td>\n",
       "      <td>0.040650</td>\n",
       "      <td>0.082927</td>\n",
       "      <td>0.069919</td>\n",
       "      <td>0.052033</td>\n",
       "      <td>0.126829</td>\n",
       "    </tr>\n",
       "  </tbody>\n",
       "</table>\n",
       "</div>"
      ],
      "text/plain": [
       "         THYROID  HIGHBP_NOTPREG    ASTHMA  DIABETES  HIGHBP_PREG  \\\n",
       "NAUSEA                                                              \n",
       "0       0.050825        0.032171  0.140038  0.057313     0.039740   \n",
       "1       0.055285        0.063415  0.222764  0.065041     0.076423   \n",
       "\n",
       "        PREECLAMPSIA  EARLY_LABOR    ANEMIA    KIDNEY  RH_DISEASE     URINE  \\\n",
       "NAUSEA                                                                        \n",
       "0           0.004325     0.026764  0.144634  0.071641    0.027845  0.042985   \n",
       "1           0.019512     0.097561  0.217886  0.180488    0.040650  0.082927   \n",
       "\n",
       "        VAGINOSIS   GROUP_B   CIG_NOW  \n",
       "NAUSEA                                 \n",
       "0        0.048391  0.037037  0.081103  \n",
       "1        0.069919  0.052033  0.126829  "
      ]
     },
     "execution_count": 21,
     "metadata": {},
     "output_type": "execute_result"
    }
   ],
   "source": [
    "data.groupby('NAUSEA').mean()"
   ]
  },
  {
   "cell_type": "code",
   "execution_count": 22,
   "metadata": {},
   "outputs": [
    {
     "data": {
      "text/plain": [
       "Text(0, 0.5, 'EARLY_LABOR')"
      ]
     },
     "execution_count": 22,
     "metadata": {},
     "output_type": "execute_result"
    },
    {
     "data": {
      "image/png": "[encoded data removed]",
      "text/plain": [
       "<Figure size 432x288 with 1 Axes>"
      ]
     },
     "metadata": {
      "needs_background": "light"
     },
     "output_type": "display_data"
    }
   ],
   "source": [
    "pd.crosstab(data.HIGHBP_PREG,data.EARLY_LABOR).plot(kind='bar')\n",
    "plt.title('Early Labor by pregnancy hypertension status')\n",
    "plt.xlabel('HIGHBP_PREG')\n",
    "plt.ylabel('EARLY_LABOR')\n",
    "#to save the figures, use plt.savefig('name')"
   ]
  },
  {
   "cell_type": "code",
   "execution_count": 25,
   "metadata": {},
   "outputs": [
    {
     "data": {
      "text/plain": [
       "Text(0, 0.5, 'Frequency')"
      ]
     },
     "execution_count": 25,
     "metadata": {},
     "output_type": "execute_result"
    },
    {
     "data": {
      "image/png": "[encoded data removed]",
      "text/plain": [
       "<Figure size 432x288 with 1 Axes>"
      ]
     },
     "metadata": {
      "needs_background": "light"
     },
     "output_type": "display_data"
    }
   ],
   "source": [
    "data.BMI.hist()\n",
    "plt.title('Histogram of BMI')\n",
    "plt.xlabel('BMI')\n",
    "plt.ylabel('Frequency')"
   ]
  },
  {
   "cell_type": "code",
   "execution_count": 26,
   "metadata": {},
   "outputs": [],
   "source": [
    "Var_Corr = df_2.corr()"
   ]
  },
  {
   "cell_type": "code",
   "execution_count": 27,
   "metadata": {},
   "outputs": [
    {
     "data": {
      "image/png": "[encoded data removed]",
      "text/plain": [
       "<Figure size 432x288 with 2 Axes>"
      ]
     },
     "metadata": {
      "needs_background": "light"
     },
     "output_type": "display_data"
    }
   ],
   "source": [
    "# plot the heatmap and annotation on it\n",
    "heat = sns.heatmap(Var_Corr, xticklabels=Var_Corr.columns, yticklabels=Var_Corr.columns)\n",
    "#heat.savefig(\"heat.png\", bbox_inches='tight', dpi=600)\n",
    "(heat).get_figure().savefig('heat.png')"
   ]
  },
  {
   "cell_type": "code",
   "execution_count": 35,
   "metadata": {},
   "outputs": [],
   "source": [
    "#now we split our sample in a training and test dataset, while balancing the data (for training only)\n",
    "#first, we make dummy variables for the categorical variables:\n",
    "df=pd.get_dummies(df_2)"
   ]
  },
  {
   "cell_type": "code",
   "execution_count": 36,
   "metadata": {},
   "outputs": [],
   "source": [
    "# Separate majority and minority classes\n",
    "from sklearn.utils import resample\n",
    "df_majority = df_2[df_2.EARLY_LABOR == 0]\n",
    "df_minority = df_2[df_2.EARLY_LABOR == 1]"
   ]
  },
  {
   "cell_type": "code",
   "execution_count": 38,
   "metadata": {},
   "outputs": [],
   "source": [
    "# Upsample minority class\n",
    "df_minority_upsampled = resample(df_minority,\n",
    "                                 replace=True,     # sample with replacement\n",
    "                                 n_samples=4309,    # to match the USA prevalence\n",
    "                                 random_state=100) # reproducible results"
   ]
  },
  {
   "cell_type": "code",
   "execution_count": 39,
   "metadata": {},
   "outputs": [],
   "source": [
    "# Combine majority class with upsampled minority class\n",
    "df_upsampled = pd.concat([df_majority, df_minority_upsampled])"
   ]
  },
  {
   "cell_type": "code",
   "execution_count": 40,
   "metadata": {},
   "outputs": [
    {
     "data": {
      "text/plain": [
       "1.0    4309\n",
       "0.0    4309\n",
       "Name: EARLY_LABOR, dtype: int64"
      ]
     },
     "execution_count": 40,
     "metadata": {},
     "output_type": "execute_result"
    }
   ],
   "source": [
    "# Display new class counts\n",
    "df_upsampled.EARLY_LABOR.value_counts()"
   ]
  }
 ],
 "metadata": {
  "kernelspec": {
   "display_name": "Python 3",
   "language": "python",
   "name": "python3"
  },
  "language_info": {
   "codemirror_mode": {
    "name": "ipython",
    "version": 3
   },
   "file_extension": ".py",
   "mimetype": "text/x-python",
   "name": "python",
   "nbconvert_exporter": "python",
   "pygments_lexer": "ipython3",
   "version": "3.7.4"
  }
 },
 "nbformat": 4,
 "nbformat_minor": 2
}
