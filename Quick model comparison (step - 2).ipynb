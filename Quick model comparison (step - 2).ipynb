{
 "cells": [
  {
   "cell_type": "code",
   "execution_count": 3,
   "metadata": {},
   "outputs": [],
   "source": [
    "import pandas as pd\n",
    "import matplotlib.pyplot as plt\n",
    "import xgboost as xgb\n",
    "import lightgbm as lgbm\n",
    "from sklearn.linear_model import LogisticRegression\n",
    "from sklearn.discriminant_analysis import LinearDiscriminantAnalysis\n",
    "from sklearn.neighbors import KNeighborsClassifier\n",
    "from sklearn.svm import SVC\n",
    "from sklearn.naive_bayes import GaussianNB\n",
    "from sklearn.ensemble import RandomForestClassifier\n",
    "from sklearn.tree import DecisionTreeClassifier\n",
    "from sklearn.model_selection import KFold\n",
    "from sklearn import model_selection\n",
    "from sklearn.model_selection import train_test_split"
   ]
  },
  {
   "cell_type": "code",
   "execution_count": 4,
   "metadata": {},
   "outputs": [],
   "source": [
    "df = pd.read_csv('C:\\\\Users\\\\...dataset_bmi.csv')"
   ]
  },
  {
   "cell_type": "code",
   "execution_count": 5,
   "metadata": {},
   "outputs": [
    {
     "name": "stdout",
     "output_type": "stream",
     "text": [
      "percentage of term labor 83.52908277404921\n",
      "percentage of preterm labor 16.47091722595078\n"
     ]
    }
   ],
   "source": [
    "#check the proportion of our target variable in the combined dataset:\n",
    "count_no_con = len(df[df['GESTATIONAL_AGE_CAT']==0])\n",
    "count_yes = len(df[df['GESTATIONAL_AGE_CAT']==1])\n",
    "pct_of_no_con = count_no_con/(count_no_con+count_yes)\n",
    "print(\"percentage of term labor\", pct_of_no_con*100)\n",
    "pct_of_yes = count_yes/(count_no_con+count_yes)\n",
    "print(\"percentage of preterm labor\", pct_of_yes*100)"
   ]
  },
  {
   "cell_type": "code",
   "execution_count": 6,
   "metadata": {},
   "outputs": [],
   "source": [
    "#Prepare train and test sets\n",
    "y = df.GESTATIONAL_AGE_CAT\n",
    "X = df.drop(['GESTATIONAL_AGE_CAT','Unnamed: 0'], axis=1)\n",
    "X_train, X_test, y_train, y_test = train_test_split(X, y, test_size = 0.25, random_state = 10)"
   ]
  },
  {
   "cell_type": "code",
   "execution_count": 7,
   "metadata": {},
   "outputs": [],
   "source": [
    "# prepare models\n",
    "seed = 7\n",
    "models = []\n",
    "\n",
    "models.append(('LR', LogisticRegression()))\n",
    "models.append(('LDA', LinearDiscriminantAnalysis()))\n",
    "models.append(('KNN', KNeighborsClassifier()))\n",
    "models.append(('CART', DecisionTreeClassifier()))\n",
    "models.append(('NB', GaussianNB()))\n",
    "models.append(('SVM', SVC()))\n",
    "models.append(('RF', RandomForestClassifier()))\n",
    "models.append(('XGBoost', xgb.XGBClassifier(scale_pos_weight= 5)))\n",
    "models.append(('LightGBM', lgbm.LGBMClassifier(scale_pos_weight= 5)))"
   ]
  },
  {
   "cell_type": "code",
   "execution_count": 8,
   "metadata": {},
   "outputs": [],
   "source": [
    "# evaluate each model in turn\n",
    "results = []\n",
    "names = []\n",
    "scoring='recall'"
   ]
  },
  {
   "cell_type": "code",
   "execution_count": 9,
   "metadata": {},
   "outputs": [
    {
     "name": "stdout",
     "output_type": "stream",
     "text": [
      "LR: 0.000000 (0.000000)\n",
      "LDA: 0.007564 (0.010033)\n",
      "KNN: 0.017715 (0.007184)\n",
      "CART: 0.040730 (0.023839)\n",
      "NB: 0.173383 (0.051545)\n",
      "SVM: 0.000000 (0.000000)\n",
      "RF: 0.041661 (0.017531)\n",
      "XGBoost: 0.380846 (0.079188)\n",
      "LightGBM: 0.333074 (0.068241)\n"
     ]
    }
   ],
   "source": [
    "for name, model in models:\n",
    "\n",
    "    kfold = model_selection.KFold(n_splits=5)\n",
    "\n",
    "    cvresults = model_selection.cross_val_score(model, X_train, y_train.ravel(), cv=kfold, scoring=scoring)\n",
    "\n",
    "    results.append(cvresults)\n",
    "    names.append(name)\n",
    "    msg = \"%s: %f (%f)\" % (name, cvresults.mean(), cvresults.std())\n",
    "\n",
    "    print(msg)"
   ]
  },
  {
   "cell_type": "code",
   "execution_count": 14,
   "metadata": {},
   "outputs": [
    {
     "name": "stderr",
     "output_type": "stream",
     "text": [
      "C:\\Users\\kimam\\Anaconda3\\lib\\site-packages\\ipykernel_launcher.py:4: MatplotlibDeprecationWarning: Adding an axes using the same arguments as a previous axes currently reuses the earlier instance.  In a future version, a new instance will always be created and returned.  Meanwhile, this warning can be suppressed, and the future behavior ensured, by passing a unique label to each axes instance.\n",
      "  after removing the cwd from sys.path.\n"
     ]
    },
    {
     "data": {
      "image/png": "[encoded data removed]",
      "text/plain": [
       "<Figure size 432x288 with 1 Axes>"
      ]
     },
     "metadata": {
      "needs_background": "light"
     },
     "output_type": "display_data"
    }
   ],
   "source": [
    "# boxplot algorithm comparison\n",
    "fig = plt.figure()  # create a figure object\n",
    "plt.title('Algorithm Comparison')\n",
    "ax = fig.add_subplot(111)\n",
    "plt.boxplot(results)\n",
    "ax.set_xticklabels(names)\n",
    "plt.savefig('mc_bp.png')\n",
    "plt.show()"
   ]
  },
  {
   "cell_type": "markdown",
   "metadata": {},
   "source": [
    "It looks like gradient boosting classifiers worked the best (highest recall value)."
   ]
  }
 ],
 "metadata": {
  "kernelspec": {
   "display_name": "Python 3",
   "language": "python",
   "name": "python3"
  },
  "language_info": {
   "codemirror_mode": {
    "name": "ipython",
    "version": 3
   },
   "file_extension": ".py",
   "mimetype": "text/x-python",
   "name": "python",
   "nbconvert_exporter": "python",
   "pygments_lexer": "ipython3",
   "version": "3.7.4"
  }
 },
 "nbformat": 4,
 "nbformat_minor": 4
}
